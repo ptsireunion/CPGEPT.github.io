{
 "cells": [
  {
   "cell_type": "markdown",
   "metadata": {},
   "source": [
    "# **Variables**"
   ]
  },
  {
   "cell_type": "markdown",
   "metadata": {},
   "source": [
    "**Les entiers (type int)**"
   ]
  },
  {
   "cell_type": "code",
   "execution_count": 1,
   "metadata": {},
   "outputs": [
    {
     "name": "stdout",
     "output_type": "stream",
     "text": [
      "3\n"
     ]
    }
   ],
   "source": [
    "#on définit un entier et on l'affiche\n",
    "number = 3\n",
    "print(number)"
   ]
  },
  {
   "cell_type": "code",
   "execution_count": 2,
   "metadata": {},
   "outputs": [
    {
     "data": {
      "text/plain": [
       "int"
      ]
     },
     "execution_count": 2,
     "metadata": {},
     "output_type": "execute_result"
    }
   ],
   "source": [
    "#on vérifie le type de la variable number\n",
    "type(number)"
   ]
  },
  {
   "cell_type": "markdown",
   "metadata": {},
   "source": [
    "**Les nombres flottants (type float)**"
   ]
  },
  {
   "cell_type": "code",
   "execution_count": 3,
   "metadata": {},
   "outputs": [
    {
     "name": "stdout",
     "output_type": "stream",
     "text": [
      "3.0\n"
     ]
    }
   ],
   "source": [
    "#on définit un flottant\n",
    "number_float = 3.0\n",
    "print(number_float)"
   ]
  },
  {
   "cell_type": "code",
   "execution_count": 4,
   "metadata": {},
   "outputs": [
    {
     "data": {
      "text/plain": [
       "float"
      ]
     },
     "execution_count": 4,
     "metadata": {},
     "output_type": "execute_result"
    }
   ],
   "source": [
    "#on vérifie le type de la variable number_float\n",
    "type(number_float)"
   ]
  },
  {
   "cell_type": "code",
   "execution_count": 6,
   "metadata": {},
   "outputs": [
    {
     "name": "stdout",
     "output_type": "stream",
     "text": [
      "3\n",
      "<class 'int'>\n"
     ]
    }
   ],
   "source": [
    "#on peut transformer un float en int...\n",
    "number_int = int(number_float)\n",
    "print(number_int)\n",
    "print(type(number_int))"
   ]
  },
  {
   "cell_type": "code",
   "execution_count": 7,
   "metadata": {},
   "outputs": [
    {
     "name": "stdout",
     "output_type": "stream",
     "text": [
      "3.0\n"
     ]
    }
   ],
   "source": [
    "#... et vice versa, int en float\n",
    "number_float = float(number_int)\n",
    "print(number_float)"
   ]
  },
  {
   "cell_type": "markdown",
   "metadata": {},
   "source": [
    "**Les listes (type list)**"
   ]
  },
  {
   "cell_type": "code",
   "execution_count": 8,
   "metadata": {},
   "outputs": [
    {
     "name": "stdout",
     "output_type": "stream",
     "text": [
      "[1, 1, 1, 2, 3, 6, 5]\n"
     ]
    }
   ],
   "source": [
    "#on définit une liste simple de nombres\n",
    "liste_numbers = [1,1,1,2,3,6,5]\n",
    "print(liste_numbers)"
   ]
  },
  {
   "cell_type": "code",
   "execution_count": 9,
   "metadata": {},
   "outputs": [
    {
     "data": {
      "text/plain": [
       "list"
      ]
     },
     "execution_count": 9,
     "metadata": {},
     "output_type": "execute_result"
    }
   ],
   "source": [
    "#on vérifie le type de la variable liste_numbers\n",
    "type(liste_numbers)"
   ]
  },
  {
   "cell_type": "code",
   "execution_count": 10,
   "metadata": {},
   "outputs": [
    {
     "name": "stdout",
     "output_type": "stream",
     "text": [
      "{1, 2, 3, 5, 6}\n"
     ]
    },
    {
     "data": {
      "text/plain": [
       "set"
      ]
     },
     "execution_count": 10,
     "metadata": {},
     "output_type": "execute_result"
    }
   ],
   "source": [
    "#on peut transformer une liste en set...\n",
    "liste_set = set(liste_numbers)\n",
    "print(liste_set)\n",
    "type(liste_set)"
   ]
  },
  {
   "cell_type": "code",
   "execution_count": 11,
   "metadata": {},
   "outputs": [
    {
     "name": "stdout",
     "output_type": "stream",
     "text": [
      "[1, 2, 3, 5, 6]\n"
     ]
    }
   ],
   "source": [
    "#... et vice versa, set en liste\n",
    "liste = list(liste_set)\n",
    "print(liste)"
   ]
  },
  {
   "cell_type": "code",
   "execution_count": 12,
   "metadata": {},
   "outputs": [
    {
     "ename": "TypeError",
     "evalue": "'int' object is not iterable",
     "output_type": "error",
     "traceback": [
      "\u001b[1;31m---------------------------------------------------------------------------\u001b[0m",
      "\u001b[1;31mTypeError\u001b[0m                                 Traceback (most recent call last)",
      "\u001b[1;32m<ipython-input-12-b902e64fa4d0>\u001b[0m in \u001b[0;36m<module>\u001b[1;34m\u001b[0m\n\u001b[0;32m      1\u001b[0m \u001b[1;31m#transformer un int en liste --> impossible\u001b[0m\u001b[1;33m\u001b[0m\u001b[1;33m\u001b[0m\u001b[1;33m\u001b[0m\u001b[0m\n\u001b[1;32m----> 2\u001b[1;33m \u001b[0mnumber_to_list\u001b[0m \u001b[1;33m=\u001b[0m \u001b[0mlist\u001b[0m\u001b[1;33m(\u001b[0m\u001b[1;36m3\u001b[0m\u001b[1;33m)\u001b[0m\u001b[1;33m\u001b[0m\u001b[1;33m\u001b[0m\u001b[0m\n\u001b[0m\u001b[0;32m      3\u001b[0m \u001b[0mprint\u001b[0m\u001b[1;33m(\u001b[0m\u001b[0mnumber_to_list\u001b[0m\u001b[1;33m)\u001b[0m\u001b[1;33m\u001b[0m\u001b[1;33m\u001b[0m\u001b[0m\n\u001b[0;32m      4\u001b[0m \u001b[1;33m\u001b[0m\u001b[0m\n\u001b[0;32m      5\u001b[0m \u001b[1;31m#la commande list() n'accepte que des iterables !\u001b[0m\u001b[1;33m\u001b[0m\u001b[1;33m\u001b[0m\u001b[1;33m\u001b[0m\u001b[0m\n",
      "\u001b[1;31mTypeError\u001b[0m: 'int' object is not iterable"
     ]
    }
   ],
   "source": [
    "#transformer un int en liste --> impossible\n",
    "number_to_list = list(3)\n",
    "print(number_to_list)\n",
    "\n",
    "#la commande list() n'accepte que des iterables !"
   ]
  },
  {
   "cell_type": "markdown",
   "metadata": {},
   "source": [
    "**Les chaines de caractères (type str)**"
   ]
  },
  {
   "cell_type": "code",
   "execution_count": 13,
   "metadata": {},
   "outputs": [
    {
     "name": "stdout",
     "output_type": "stream",
     "text": [
      "la team mpx sont les + bo\n"
     ]
    }
   ],
   "source": [
    "#on définit une chaine de caractères\n",
    "char = \"la team mpx sont les + bo\"\n",
    "print(char)"
   ]
  },
  {
   "cell_type": "code",
   "execution_count": 14,
   "metadata": {},
   "outputs": [
    {
     "data": {
      "text/plain": [
       "str"
      ]
     },
     "execution_count": 14,
     "metadata": {},
     "output_type": "execute_result"
    }
   ],
   "source": [
    "#on vérifie le type de la variable char\n",
    "type(char)"
   ]
  },
  {
   "cell_type": "code",
   "execution_count": 16,
   "metadata": {},
   "outputs": [
    {
     "name": "stdout",
     "output_type": "stream",
     "text": [
      "8\n"
     ]
    }
   ],
   "source": [
    "#on peut transformer une nombre (int ou float) en str...\n",
    "number = 8\n",
    "char_number = str(number)\n",
    "print(type(char_number))\n",
    "print(char_number)"
   ]
  },
  {
   "cell_type": "code",
   "execution_count": 17,
   "metadata": {},
   "outputs": [
    {
     "name": "stdout",
     "output_type": "stream",
     "text": [
      "8\n"
     ]
    }
   ],
   "source": [
    "#... et vice versa de str en (int ou float)\n",
    "char = \"8\"\n",
    "number_char = int(number)\n",
    "print(char_number)"
   ]
  },
  {
   "cell_type": "code",
   "execution_count": 18,
   "metadata": {},
   "outputs": [
    {
     "name": "stdout",
     "output_type": "stream",
     "text": [
      "['l', 'a', ' ', 't', 'e', 'a', 'm', ' ', 'm', 'p', 'x', ' ', 's', 'o', 'n', 't', ' ', 'l', 'e', 's', ' ', '+', ' ', 'b', 'o']\n"
     ]
    }
   ],
   "source": [
    "#On peut aussi transformer un str en list...\n",
    "char = \"la team mpx sont les + bo\"\n",
    "liste_char = list(char)\n",
    "print(liste_char)"
   ]
  },
  {
   "cell_type": "code",
   "execution_count": 20,
   "metadata": {},
   "outputs": [
    {
     "name": "stdout",
     "output_type": "stream",
     "text": [
      "[1, 2, 3, 'la team mpx sont les + bo']\n"
     ]
    },
    {
     "data": {
      "text/plain": [
       "str"
      ]
     },
     "execution_count": 20,
     "metadata": {},
     "output_type": "execute_result"
    }
   ],
   "source": [
    "#... et vice versa de liste en str\n",
    "liste = [1,2,3,\"la team mpx sont les + bo\"]\n",
    "char_liste = str(liste)\n",
    "print(char_liste)\n",
    "type(char_liste)"
   ]
  },
  {
   "cell_type": "markdown",
   "metadata": {},
   "source": [
    "**Les tuples (type tuple)**"
   ]
  },
  {
   "cell_type": "code",
   "execution_count": 21,
   "metadata": {},
   "outputs": [
    {
     "name": "stdout",
     "output_type": "stream",
     "text": [
      "(1, 2)\n"
     ]
    }
   ],
   "source": [
    "#on définit un tuple\n",
    "tup = (1,2)\n",
    "print(tup)"
   ]
  },
  {
   "cell_type": "code",
   "execution_count": 22,
   "metadata": {},
   "outputs": [
    {
     "name": "stdout",
     "output_type": "stream",
     "text": [
      "[1, 2]\n"
     ]
    }
   ],
   "source": [
    "#On peut transformer un tuple en list...\n",
    "liste = list(tup)\n",
    "print(liste)"
   ]
  },
  {
   "cell_type": "code",
   "execution_count": 23,
   "metadata": {},
   "outputs": [
    {
     "name": "stdout",
     "output_type": "stream",
     "text": [
      "1\n",
      "2\n"
     ]
    }
   ],
   "source": [
    "for i in liste:\n",
    "    print(i)"
   ]
  },
  {
   "cell_type": "code",
   "execution_count": 25,
   "metadata": {},
   "outputs": [
    {
     "name": "stdout",
     "output_type": "stream",
     "text": [
      "(1, 2)\n"
     ]
    },
    {
     "data": {
      "text/plain": [
       "str"
      ]
     },
     "execution_count": 25,
     "metadata": {},
     "output_type": "execute_result"
    }
   ],
   "source": [
    "#On peut transformer un tuple en str...\n",
    "char = str(tup)\n",
    "print(char)\n",
    "type(char)"
   ]
  },
  {
   "cell_type": "code",
   "execution_count": 27,
   "metadata": {},
   "outputs": [
    {
     "name": "stdout",
     "output_type": "stream",
     "text": [
      "<class 'str'>\n",
      "<class 'str'>\n",
      "<class 'str'>\n",
      "<class 'str'>\n",
      "<class 'str'>\n",
      "<class 'str'>\n"
     ]
    }
   ],
   "source": [
    "for i in char:\n",
    "    print(type(i))"
   ]
  },
  {
   "cell_type": "markdown",
   "metadata": {},
   "source": [
    "**Les booléens (type bool)**"
   ]
  },
  {
   "cell_type": "code",
   "execution_count": 28,
   "metadata": {},
   "outputs": [
    {
     "name": "stdout",
     "output_type": "stream",
     "text": [
      "Le booléen de 3 est True\n",
      "Le booléen de 0 est False\n",
      "Le booléen de [] est False\n",
      "Le booléen de [1, 23, 5, 6, 5] est True\n",
      "Le booléen de Team MPX est True\n",
      "Le booléen de  est False\n"
     ]
    }
   ],
   "source": [
    "#un booléen est restreint à prendre deux valeurs : True et False\n",
    "number_3 = 3\n",
    "number_0 = 0\n",
    "empty_liste = []\n",
    "liste_num = [1,23,5,6,5]\n",
    "char_empty = \"\"\n",
    "char = \"Team MPX\"\n",
    "print(f'Le booléen de {number_3} est', bool(number_3))\n",
    "print(f'Le booléen de {number_0} est', bool(number_0))\n",
    "print(f'Le booléen de {empty_liste} est', bool(empty_liste))\n",
    "print(f'Le booléen de {liste_num} est', bool(liste_num))\n",
    "print(f'Le booléen de {char} est', bool(char))\n",
    "print(f'Le booléen de {char_empty} est', bool(char_empty))"
   ]
  },
  {
   "cell_type": "code",
   "execution_count": 29,
   "metadata": {},
   "outputs": [
    {
     "name": "stdout",
     "output_type": "stream",
     "text": [
      "The equality between 0 and 0 is True\n",
      "The equality between [1, 23, 5, 6, 5] and [1,23,5,6,5] is True\n",
      "The equality between Team MPX and oui is False\n"
     ]
    }
   ],
   "source": [
    "#une condition retourne toujours un booléen\n",
    "print(f\"The equality between {number_0} and 0 is\", (number_0 == 0))\n",
    "print(f'The equality between {liste_num} and [1,23,5,6,5] is', (liste_num == [1,23,5,6,5]))\n",
    "print(f'The equality between {char} and oui is', (char == \"oui\"))"
   ]
  },
  {
   "cell_type": "markdown",
   "metadata": {},
   "source": [
    "**Les nombres complexes**"
   ]
  },
  {
   "cell_type": "code",
   "execution_count": 30,
   "metadata": {},
   "outputs": [
    {
     "name": "stdout",
     "output_type": "stream",
     "text": [
      "(1+1j)\n",
      "<class 'complex'>\n"
     ]
    }
   ],
   "source": [
    "# on définit un nombre complexe z\n",
    "z = 1+1j\n",
    "print(z)\n",
    "print(type(z))"
   ]
  },
  {
   "cell_type": "code",
   "execution_count": 31,
   "metadata": {},
   "outputs": [
    {
     "name": "stdout",
     "output_type": "stream",
     "text": [
      "1.0\n"
     ]
    }
   ],
   "source": [
    "# On peut récupérer la partie réel de z\n",
    "reel = z.real\n",
    "print(reel)"
   ]
  },
  {
   "cell_type": "code",
   "execution_count": 32,
   "metadata": {},
   "outputs": [
    {
     "name": "stdout",
     "output_type": "stream",
     "text": [
      "1.0\n"
     ]
    }
   ],
   "source": [
    "# On peut récupérer la partie imaginaire de z\n",
    "imaginaire = z.imag\n",
    "print(imaginaire)"
   ]
  },
  {
   "cell_type": "markdown",
   "metadata": {},
   "source": [
    "**Opérations mathématiques**"
   ]
  },
  {
   "cell_type": "code",
   "execution_count": null,
   "metadata": {},
   "outputs": [],
   "source": [
    "a = 12\n",
    "b = 3\n",
    "puissance = a ** b #a élevé à la puissance b\n",
    "\n",
    "#definition de la division euclidienne : a = b*q + r\n",
    "div_reste = b % a #reste de la division entre b et a = r\n",
    "div_entier = b // a #division entière entre b et a\n",
    "div = b / a #quotient entre b et a = q\n",
    "\n",
    "multi = a * b \n",
    "sous = a - b\n",
    "addition = a + b\n",
    "\n"
   ]
  },
  {
   "cell_type": "markdown",
   "metadata": {},
   "source": [
    "## **Conclusion**"
   ]
  },
  {
   "cell_type": "markdown",
   "metadata": {},
   "source": [
    "**1. On affecte une valeur (int, float, str, list etc.) à une variable**\n",
    "\n",
    "**2. Les transformations possibles sont :**\n",
    "1. str <--> int (ou float)  \n",
    "2. list <--> set\n",
    "3. list <--> str\n",
    "\n",
    "\n",
    "**3. Suivez bien les consignes des exos qui demandent bien souvent des types bien précis pour les variables**"
   ]
  }
 ],
 "metadata": {
  "kernelspec": {
   "display_name": "Python 3",
   "language": "python",
   "name": "python3"
  },
  "language_info": {
   "codemirror_mode": {
    "name": "ipython",
    "version": 3
   },
   "file_extension": ".py",
   "mimetype": "text/x-python",
   "name": "python",
   "nbconvert_exporter": "python",
   "pygments_lexer": "ipython3",
   "version": "3.7.6"
  }
 },
 "nbformat": 4,
 "nbformat_minor": 4
}
