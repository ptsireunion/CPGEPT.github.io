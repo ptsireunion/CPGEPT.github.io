{
 "cells": [
  {
   "cell_type": "markdown",
   "metadata": {},
   "source": [
    "![WeTheGeeksV3.jpg](https://raw.githubusercontent.com/ptsireunion/CPGE-PT-Reunion/main/WeTheGeeksV3.jpg)\n",
    " \n",
    "<div class=\"alert alert-block alert-info\">\n",
    "    <b> PYTHON – Révisions  \n",
    "</div>\n",
    "\n",
    "# - Deux méthodes d'intégration numérique -\n",
    ">Physique Chimie `CPGE PT` lien vers le blog <a> https://cpge-reunion-ptsi.blogspot.com/p/python.html </a>\n",
    "    >> Sujet inspiré par diverses lectures sur le net. Merci à leurs contributeurs.trices"
   ]
  },
  {
   "cell_type": "code",
   "execution_count": 3,
   "metadata": {},
   "outputs": [],
   "source": [
    "from math import *\n",
    "import matplotlib.pyplot as plt"
   ]
  },
  {
   "cell_type": "markdown",
   "metadata": {},
   "source": [
    "Le but de ce notebook est de rappeler deux méthodes d'intégration numérique: la méthodes des rectangles (utilisée dans el DM1) et celle des trapèzes."
   ]
  },
  {
   "cell_type": "markdown",
   "metadata": {},
   "source": [
    "## 1. La méthode des rectangles"
   ]
  },
  {
   "cell_type": "markdown",
   "metadata": {},
   "source": [
    "Soit $f:[a,b]\\to\\mathbb R$. Pour tout $n\\ge 1$, soit $S_n=\\frac{b-a}{n}\\sum_{k=0}^{n-1}f(a + k\\frac{b-a}{n})$. Si $f$ est continue alors $S_n\\to\\int_a^b f$ lorsque $n$ tend vers l'infini. La raison essentielle à cela est que toute fonction continue peut être approchée de façon \"convenable\" par des fonctions en escalier. L'aire sous la courbe peut donc être approchée par des sommes d'aires de rectangles."
   ]
  },
  {
   "cell_type": "code",
   "execution_count": 4,
   "metadata": {},
   "outputs": [],
   "source": [
    "def rectangles(f, a, b, n):\n",
    "    d = (b - a) / n\n",
    "    s = 0\n",
    "    for k in range(n):\n",
    "        s += f(a + k * d)\n",
    "    return s * d"
   ]
  },
  {
   "cell_type": "code",
   "execution_count": 5,
   "metadata": {},
   "outputs": [
    {
     "data": {
      "text/plain": [
       "1.7174228307349666"
      ]
     },
     "execution_count": 5,
     "metadata": {},
     "output_type": "execute_result"
    }
   ],
   "source": [
    "rectangles(exp, 0, 1, 1000)"
   ]
  },
  {
   "cell_type": "markdown",
   "metadata": {},
   "source": [
    "> Vérifier que c'est un valeur approchée convenable !"
   ]
  },
  {
   "cell_type": "markdown",
   "metadata": {},
   "source": [
    "## 2. La méthode des trapèzes"
   ]
  },
  {
   "cell_type": "markdown",
   "metadata": {},
   "source": [
    "Toute fonction suffisamment régulière peut être approchée de façon \"très convenable\" par des fonctions affines par morceaux. Il s'ensuit que l'aire sous la courbe peut être approchée par des sommes d'aires de trapèzes. Le cours montre que ces sommes sont à peu près celles de la méthode des rectangles, à un terme près qui est $\\frac 1 {2n}(b-a)(f(b)-f(a))$."
   ]
  },
  {
   "cell_type": "code",
   "execution_count": 6,
   "metadata": {},
   "outputs": [],
   "source": [
    "def trapezes(f, a, b, n):\n",
    "    r = rectangles(f, a, b, n)\n",
    "    return r + (b - a) * (f(b) - f(a)) / (2 * n)"
   ]
  },
  {
   "cell_type": "code",
   "execution_count": 7,
   "metadata": {},
   "outputs": [
    {
     "data": {
      "text/plain": [
       "1.7182819716491962"
      ]
     },
     "execution_count": 7,
     "metadata": {},
     "output_type": "execute_result"
    }
   ],
   "source": [
    "trapezes(exp, 0, 1, 1000)"
   ]
  },
  {
   "cell_type": "markdown",
   "metadata": {},
   "source": [
    "> Vérifier que c'est cette valeur approchée est meilleure que la précédente !"
   ]
  },
  {
   "cell_type": "markdown",
   "metadata": {},
   "source": [
    "> Vous pouvez maintenant utiliser d'autres fonctions pour tester ces deux méthodes rudimentaires mais efficaces pour nos besoins cette année."
   ]
  }
 ],
 "metadata": {
  "kernelspec": {
   "display_name": "Python 3",
   "language": "python",
   "name": "python3"
  },
  "language_info": {
   "codemirror_mode": {
    "name": "ipython",
    "version": 3
   },
   "file_extension": ".py",
   "mimetype": "text/x-python",
   "name": "python",
   "nbconvert_exporter": "python",
   "pygments_lexer": "ipython3",
   "version": "3.7.6"
  }
 },
 "nbformat": 4,
 "nbformat_minor": 2
}
