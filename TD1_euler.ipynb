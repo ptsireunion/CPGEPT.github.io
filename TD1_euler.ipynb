{
 "cells": [
  {
   "cell_type": "markdown",
   "metadata": {
    "id": "P_JFKXr07x0M"
   },
   "source": [
    "![WeTheGeeksV3.jpg](https://raw.githubusercontent.com/ptsireunion/CPGE-PT-Reunion/main/WeTheGeeksV3.jpg)\n",
    " \n",
    "<div class=\"alert alert-block alert-info\">\n",
    "    <b> PYTHON – Travaux Dirigés N°1 \n",
    "</div>\n",
    "\n",
    "# - ETUDE DE LA METHODE D'EULER EXPLICITE -\n",
    ">Physique Chimie `CPGE PT` T.Roque\n",
    "    >> lien vers le blog <a> https://cpge-reunion-ptsi.blogspot.com/p/python.html </a>\n",
    "       "
   ]
  },
  {
   "cell_type": "markdown",
   "metadata": {
    "id": "ku00dche7x0R"
   },
   "source": [
    "Dans ce notebook, on rappelle le principe de la `méthode d'Euler explicite` pour pour intégrer une équation différentielle dont on se limite pour le moment au premier ordre. On verra plus tard, avec la `méthode d'Euler implicite`comment transformer une équation différentielle d'ordre 2 en 2 équations différentielles d'ordre 1.\n",
    "\n",
    "<div class=\"alert alert-block alert-danger\">\n",
    "    <b> PREMIERE PARTIE, BASES THEORIQUES\n",
    "</div>\n",
    "\n",
    "\n",
    "La méthode d'Euler est la base de tout méthode d'intégration numérique d'équation différentielle.C'est une méthode d'intégration numérique rudimentaire et simple à mettre en œuvre. Il est donc important de la maîtriser avant d'explorer des situations plus complexes.\n",
    "### Rappel de la méthode \n",
    "La méthode d'Euler explicite sert à intégrer une équation différentielle du premier ordre du type :\n",
    "$$\n",
    "\\frac{\\mathrm{d}y}{\\mathrm{d}t} = f(y(t), t) \n",
    "$$\n",
    "avec une condition de type $$y(0)=y_{0}$$\n",
    "où $f$ est une fonction qui dépend à la fois de la fonction inconnue $y(t)$ et de la variable temporelle $t$. \n",
    "La procédure consiste à interpréter la dérivée $\\frac{\\mathrm{d}y}{\\mathrm{d}t}$ comme le rapport de la variation infinitésimale $\\mathrm{d}y$ de la grandeur $y$ pendant la durée infinitéimale $\\mathrm{d}t$. L'équation différentielle se réécrit alors, si on multiplie par $\\mathrm{d}t$ de part et d'autre,\n",
    "$$\n",
    "\\mathrm{d}y \\approx f(y(t), t)\\,\\mathrm{d}t\n",
    "$$\n",
    "et la nouvelle valeur de $y$ en $t+\\mathrm{d}t$ correspond à peu près à celle en $t$ à laquelle on ajoute $\\mathrm{d}y$:\n",
    "$$\n",
    "y(t + \\mathrm{d}t) = y(t) + \\mathrm{d}y \n",
    "    \\approx y(t) + f(y(t), t)\\,\\mathrm{d}t\n",
    "$$\n",
    "Pour avancer dans le temps, il suffira d'y aller par \"pas\" temporel de durée $\\mathrm{d}t$ et de calculer l'évolution de $y$ de proche en proche en utilisant à chaque fois la dernière valeur connue de $y$ au \"rang précédent n\" en $t$, ou encore \"$y_n$ en $ t_n$\" pour calculer la suivante, au \"rang suivant\", en $t + \\mathrm{d}t$, ou encore \"$y_{n+1}$ en $t_{n+1}$\". On pourra alors percevoir l'équation approchée précédente comme une `équation de récurrence` :  $y_{n+1}=y(t_n)+f(y(t_n),t).dt=y_{n}+f(y_n,t).dt$\n",
    " \n",
    "<div class=\"alert alert-block alert-warning\">\n",
    "     <b>Remarque : on utilise souvent la variable $t$ pour étudier l'évolution de fonctions comme $y$ au cours du temps, mais rien n'empêche d'avoir une autre variable comme l'altitude z dans l'équation de l'hydrostatique dans le cas d'une atmosphère avec évolution affine de la température et dans le modèle du gaz parfait. On aurait alors à appliquer Euler à :\n",
    "$$\n",
    "\\frac{\\mathrm{d}P}{\\mathrm{d}z} = f(P, z)= -\\frac{P(z).M}{R.T_{0}.(1-a.z)}\n",
    "$$\n",
    "</div>\n"
   ]
  },
  {
   "cell_type": "markdown",
   "metadata": {
    "id": "a_9K1onq7x0T"
   },
   "source": [
    "<div class=\"alert alert-block alert-danger\">\n",
    "    <b> EXEMPLE DE LA DECHARGE D'UN CONDENSATEUR\n",
    "</div>"
   ]
  },
  {
   "cell_type": "markdown",
   "metadata": {
    "id": "2zDmqN6B7x0U"
   },
   "source": [
    "![RC.gif](https://raw.githubusercontent.com/ptsireunion/CPGE-PT-Reunion/554e0ed3a1cdf9bd97a437bb94f30185b3987717/RC.gif)"
   ]
  },
  {
   "cell_type": "markdown",
   "metadata": {
    "id": "f633my5p7x0V"
   },
   "source": [
    "\n",
    "Supposons que E=10v et que l'interrupteur K est en position 1 depuis longtemps. A t=0, on le bascule en position 2, démontrer que $\\frac{\\mathrm{d}y}{\\mathrm{d}t} = - \\frac1\\tau\\,y$ avec $y(0) = 10$ et $\\tau=R.C$. Résoudre l'équation de façon exacte. \n",
    "\n",
    "Si on choisit de trouver une solution numérique approchée avec la méthode d'Euler, on remarque que ici, on a simplement $f(y, t) = - \\frac1\\tau\\,y$.\n",
    "Il nous reste à : \n",
    ">- choisir $\\mathrm{d}t$ suffisamment petit pour que les erreurs successives ne soient pas trop grandes \n",
    ">- stocker les valeurs des temps successifs et des valeurs correspondantes calculées de $y$ avec l'équation de récurrence\n",
    ">- faire la représentation graphique et la comparer à la solution analytique exacte de l'équation différentielle \n"
   ]
  },
  {
   "cell_type": "code",
   "execution_count": 1,
   "metadata": {
    "colab": {
     "base_uri": "https://localhost:8080/",
     "height": 300
    },
    "executionInfo": {
     "elapsed": 16,
     "status": "ok",
     "timestamp": 1666983097276,
     "user": {
      "displayName": "ptsi reunion",
      "userId": "06471750217182498810"
     },
     "user_tz": -240
    },
    "id": "WVDRoBmq7x0V",
    "outputId": "ae7064bf-db5e-460c-a71d-0bbe211580a9"
   },
   "outputs": [
    {
     "data": {
      "text/plain": [
       "<matplotlib.legend.Legend at 0x7f21b8898ad0>"
      ]
     },
     "execution_count": 1,
     "metadata": {},
     "output_type": "execute_result"
    },
    {
     "data": {
      "image/png": "[encoded data removed]",
      "text/plain": [
       "<Figure size 432x288 with 1 Axes>"
      ]
     },
     "metadata": {
      "needs_background": "light"
     },
     "output_type": "display_data"
    }
   ],
   "source": [
    "import numpy as np              # Pour utiliser des tableaux\n",
    "import matplotlib.pyplot as plt # Pour faire les courbes à la fin\n",
    "\n",
    "dt = 1e-1\n",
    "t0 = 0\n",
    "y0 = 10\n",
    "tau= 2\n",
    "tmax = 5 * tau # On va intégrer jusqu'à 5\\tau\n",
    "N = int((tmax-t0) / dt) # Pour savoir le nombre de places à prévoir\n",
    "\n",
    "# On prépare les contenants qui stockeront les valeurs calculées\n",
    "# le \"+1\" correspond à la valeur initiale\n",
    "T = np.zeros(N+1)\n",
    "Y = np.zeros(N+1)\n",
    "\n",
    "# On impose les valeurs initiales\n",
    "T[0] = t0\n",
    "Y[0] = y0\n",
    "\n",
    "def f(y, t):\n",
    "    \"\"\"\n",
    "    La fonction en question ne dépend que de y,\n",
    "    mais ce sera plus facile à généraliser quand on aura\n",
    "    un second membre non constant dans les prochains épisodes.\n",
    "    En outre, informatiquement, il n'est pas abhérent de demander\n",
    "    une variable (ici t) et finalement ne pas l'utiliser si cela\n",
    "    simplifie une généralisation future.\n",
    "    \"\"\"\n",
    "    return - 1 / tau * y\n",
    "\n",
    "# La boucle de calcul proprement dite dans laquel chaque Y est calculé\n",
    "# à partir de celui d'avant.\n",
    "for i in range(1, N+1):\n",
    "    # On utilise les valeurs précédentes pour calculer l'incrément\n",
    "    dy = f(Y[i-1], T[i-1]) * dt\n",
    "    # et on le rajoute à la valeur précédente pour avoir la nouvelle\n",
    "    Y[i] = Y[i-1] + dy \n",
    "    # Le temps s'incrémente aussi d'un pas\n",
    "    T[i] = T[i-1] + dt \n",
    "\n",
    "# On peut à présent représenter notre solution ainsi que la solution\n",
    "# connue du cours en y0 * exp(-t/tau)\n",
    "\n",
    "theorique = y0 * np.exp(-T / tau)\n",
    "plt.plot(T, theorique, label = 'méthode analytique')\n",
    "plt.plot(T, Y, label = 'méthode Euler')\n",
    "plt.xlabel('Temps $t$ (s)')\n",
    "plt.ylabel('tension $u_C$ (V)')\n",
    "plt.xlim(t0, tmax)\n",
    "plt.ylim(0, 1.1*y0)\n",
    "plt.grid()\n",
    "plt.legend()\n"
   ]
  },
  {
   "cell_type": "markdown",
   "metadata": {
    "id": "hhtJnMYr7x0X"
   },
   "source": [
    "On voit qu'avec ce pas de temps, les deux versions sont très proches, même si on voit une différence entre 1 et 5 secondes qui montre que l'intégration par Euler a tendance à surestimer la baisse de $y$, mais dans l'ensemble, c'est acceptable d'autant qu'on tend vers une constante (ici nulle)."
   ]
  },
  {
   "cell_type": "markdown",
   "metadata": {
    "id": "dGLg28Xl7x0X"
   },
   "source": [
    "<div class=\"alert alert-block alert-danger\">\n",
    "    <b> A VOUS DE CODER : CHARGE DU CONDENSATEUR\n",
    "</div>"
   ]
  },
  {
   "cell_type": "markdown",
   "metadata": {
    "id": "y7MJwVhl7x0Y"
   },
   "source": [
    "Supposons le condensateur déchargé et basculons l'interrupteur en position 1. Démontrer que :\n",
    "$$\n",
    "\\frac{\\mathrm{d}y}{\\mathrm{d}t} + \\frac{1}\\tau\\,y = \\frac{E}{\\tau}\n",
    "$$\n",
    "avec la condition initiale $y(0) = 0$.\n",
    "\n",
    "On impose les valeurs de `dt`,  `tmax`, `tau` et `E`. À vous d'adapter de terminer le code\n",
    "Vous mettrez dans la variable `reponse` (SANS ACCENT) à la fois la valeur de $y$ en $t=t_0 + \\tau$ et $t=t_0 + 5\\tau$."
   ]
  },
  {
   "cell_type": "code",
   "execution_count": null,
   "metadata": {
    "id": "TsezPo3V7x0Y"
   },
   "outputs": [],
   "source": [
    "import numpy as np              # Pour avoir des np.array\n",
    "import matplotlib.pyplot as plt # Pour faire les courbes à la fin\n",
    "E=10\n",
    "tau=5\n",
    "tmax=25\n",
    "dt=0.01\n",
    "t0 = 0\n",
    "y0 = 0\n",
    "N = int((tmax-t0) / dt) # Pour savoir le nombre de places à prévoir\n",
    "...\n",
    "...\n",
    "...\n",
    "..."
   ]
  },
  {
   "cell_type": "markdown",
   "metadata": {
    "id": "6wIPDDpr7x0Y"
   },
   "source": [
    ">- Superposez sur la même courbe différentes charges avec des $\\tau$ différents\n",
    ">- Réalisez une charge à 10Volts alors que le condensateur est encore chargé, au temps initial, à 1 Volt\n",
    ">- Recommencez l'exercice en utilisant des listes plutôt que des tableaux"
   ]
  },
  {
   "cell_type": "code",
   "execution_count": null,
   "metadata": {
    "id": "u6zIDH_f7x0Z"
   },
   "outputs": [],
   "source": []
  }
 ],
 "metadata": {
  "colab": {
   "provenance": []
  },
  "kernelspec": {
   "display_name": "Python 3",
   "language": "python",
   "name": "python3"
  },
  "language_info": {
   "codemirror_mode": {
    "name": "ipython",
    "version": 3
   },
   "file_extension": ".py",
   "mimetype": "text/x-python",
   "name": "python",
   "nbconvert_exporter": "python",
   "pygments_lexer": "ipython3",
   "version": "3.7.6"
  }
 },
 "nbformat": 4,
 "nbformat_minor": 1
}
