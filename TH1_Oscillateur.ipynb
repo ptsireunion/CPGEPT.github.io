{
 "cells": [
  {
   "cell_type": "markdown",
   "metadata": {},
   "source": [
    "<div style='background-image: url(\"main.png\") ; padding: 0px ; background-size: cover ; border-radius: 5px ; height: 200px ; width: 100%'>\n",
    "    <div style=\"float: right ; margin: 20px ; padding: 20px ; background: rgba(255 , 255 , 255 , 0.9) ; width: 50% ; height: 150px\">\n",
    "        <div style=\"position: relative ; top: 50% ; transform: translatey(-50%)\">\n",
    "            <div style=\"font-size: xx-large ; font-weight: 900 ; color: rgba(0 , 0 , 0 , .8) ; line-height: 100%\">Électrocinétique\n",
    "            </div>\n",
    "            <div style=\"font-size: large ; padding-top: 20px ; color: rgba(0 , 0 , 0 , 0.5)\">ALI | Oscillateur quasi-sinusoïdal\n",
    "             </div>\n",
    "        </div>\n",
    "    </div>\n",
    "</div>"
   ]
  },
  {
   "cell_type": "code",
   "execution_count": null,
   "metadata": {},
   "outputs": [],
   "source": [
    "# commande permettant d'insérer les figures matplotlib dans les notebooks\n",
    "%matplotlib widget\n",
    "\n",
    "# import des librairies \n",
    "import numpy as np\n",
    "from scipy.integrate import odeint\n",
    "from scipy import fft\n",
    "import matplotlib.pyplot as plt"
   ]
  },
  {
   "cell_type": "markdown",
   "metadata": {},
   "source": [
    "# Mise en œuvre du problème physique\n",
    "##  Oscillateur quasi-sinusoïdal à filtre de Wien\n",
    "On s'intéresse au circuit ci-dessous dans lequel un montage amplificateur à ALI est couplé à un filtre passe-bande de Wien :\n",
    "![TH1_Oscillateur.png](https://raw.githubusercontent.com/ptsireunion/CPGE-PT-Reunion/main/TH1_Oscillateur.png)\n",
    "En régime linéaire, la partie ALI a pour fonction de transfert :\n",
    "$$\\underline{H}_\\text{ALI}=\\dfrac{R_1+R_2}{R_2}$$\n",
    "La partie filtre de Wien a pour fonction de transfert :\n",
    "$$\\underline{H}_\\text{Wien}=\\dfrac{\\text{j}RC\\omega}{1+3\\text{j}RC\\omega-R^2C^2\\omega^2}$$\n",
    "\n",
    "&nbsp;\n",
    "En exploitant les deux relations ci-dessus, et la condition de bouclage, on peut établir l'équation différentielle de l'oscillateur, en régime linéaire : \n",
    "$$\\boxed{\n",
    "R^2C^2\\dfrac{\\text{d}^2u_s}{\\text{d}t^2}+\\dfrac{RC}{R_2}(2R_2-R_1)\\dfrac{\\text{d}u_s}{\\text{d}t}+u_s=0\n",
    "}$$"
   ]
  },
  {
   "cell_type": "markdown",
   "metadata": {},
   "source": [
    "En régime de saturation, il faut s'intérsser à la condition de bascule de $+U_\\text{sat}$ à $-U_\\text{sat}$ et vice-versa. On montre que l'ALI :\n",
    "* reste en saturation positive tant que $u_s<\\frac{R_2}{R_1+R_2}U_\\text{sat}$, et obéit alors à l'équation différentielle : \n",
    "$$\\boxed{\n",
    "R^2C^2\\dfrac{\\text{d}^2u_s}{\\text{d}t^2}+3RC\\dfrac{\\text{d}u_s}{\\text{d}t}+u_s=0\n",
    "}$$\n",
    "* reste en saturation négative tant que $u_s<-\\frac{R_2}{R_1+R_2}U_\\text{sat}$, et obéit alors à l'équation différentielle : \n",
    "$$\\boxed{\n",
    "R^2C^2\\dfrac{\\text{d}^2u_s}{\\text{d}t^2}+3RC\\dfrac{\\text{d}u_s}{\\text{d}t}+u_s=0\n",
    "}$$"
   ]
  },
  {
   "cell_type": "markdown",
   "metadata": {},
   "source": [
    "&nbsp;\n",
    "Les deux équations différentielles sont du deuxième ordre à coefficients constants et font apparaître la même pulsation propre $\\omega_0=1/RC$. La première est conditionnellement stable, et la deuxième toujours stable. \n",
    "\n",
    "&nbsp;\n",
    "L'apparition d'oscillations n'est possible que si la première équation différentielle est instable, soit $R_1>2R_2$.\n",
    "\n",
    "&nbsp;\n",
    "On crée donc les variables associées aux diverses grandeurs, ainsi qu'une condition initiale de \"bruit électronique\", sous la forme d'un vecteur `xv0` qui contient une tension nulle, mais une dérivée initiale non nulle."
   ]
  },
  {
   "cell_type": "code",
   "execution_count": null,
   "metadata": {},
   "outputs": [],
   "source": [
    "### Données propres aux divers blocs électrocinétiques\n",
    "## Montage amplificateur à ALI\n",
    "R1 = 2200. # résistance N°1 de l'amplificateur\n",
    "R2 = 1000. # résistance N°2 de l'amplificateur\n",
    "Usat = 15. # tension de saturation de l'ALI\n",
    "\n",
    "## Montage filtre passe-bande de Wien\n",
    "R=1000. # résistance du filtre\n",
    "C=100E-9 # capacité du filtre\n",
    "omega0=1/(R*C) # pulsation propre\n",
    "\n",
    "## Bruit électronique initial servant de condition initiale\n",
    "xv0 = [0,1e-3*2*np.pi*omega0]\n",
    "\n",
    "### Paramètres numériques d'intégration\n",
    "Tmax = 20*(2*np.pi/omega0)\n",
    "nd = 20000\n",
    "t = np.linspace(0.0,Tmax,nd)"
   ]
  },
  {
   "cell_type": "markdown",
   "metadata": {},
   "source": [
    "On code alors l'équation différentielle sous la forme vectorielle compatible avec `odeint` :\n",
    "$$\\dfrac{\\text{d}}{\\text{d}t}X=f(X,t)$$"
   ]
  },
  {
   "cell_type": "markdown",
   "metadata": {},
   "source": [
    "où $X=\\left[\\begin{array}{c} u_s \\\\ \\dot{u_s} \\end{array}\\right]$ est la grandeur que l'on cherche à résoudre, on la note `xv`."
   ]
  },
  {
   "cell_type": "markdown",
   "metadata": {},
   "source": [
    "et la fonction vectorielle $f$, codé sous le nom `osc_QS_wien`, dépend du résultat obtenu pour $u_s$ :\n",
    "* si $\\left|u_s\\right|\\leq \\frac{R_2}{R_1+R_2}U_\\text{sat}$ : \n",
    "$$f(X,t)=\\left[\\begin{array}{c} \\dot{u_s} \\\\ -\\frac{1}{R^2C^2}u_s-\\frac{2R_2-R_1}{CR_2R_1}\\dot{u_s} \\end{array}\\right]$$\n",
    "* sinon \n",
    "$${f(X,t)=\\left[\\begin{array}{c} \\dot{u_s} \\\\ -\\frac{1}{R^2C^2}u_s-\\frac{3}{RC}\\dot{u_s} \\end{array}\\right]}$$"
   ]
  },
  {
   "cell_type": "code",
   "execution_count": null,
   "metadata": {},
   "outputs": [],
   "source": [
    "### Fonction décrivant le comportement de l'oscillateur\n",
    "def osc_QS_wien(xv,t): \n",
    "    # Si la tension de sortie est plus faible que la condition de bascule le montage est instable\n",
    "    if abs(xv[0]) <= (R2/(R1+R2))*Usat :\n",
    "        return [xv[1],-(2*R2-R1)/(C*R2*R)*xv[1]-xv[0]/((R*C)**2)]\n",
    "    # Sinon le montage est stabilisé par le passage en saturation de l'ALI\n",
    "    else :\n",
    "        return [xv[1],-3/(R*C)*xv[1]-xv[0]/((R*C)**2)]"
   ]
  },
  {
   "cell_type": "code",
   "execution_count": null,
   "metadata": {},
   "outputs": [],
   "source": [
    "### Intégration numérique à l'aide d'odeint et des conditions initiales de bruit\n",
    "xv = odeint(osc_QS_wien,xv0,t)\n",
    "# extraction des données de tension et de sa dérivée pour un diagramme de phase\n",
    "X = xv[:,0]\n",
    "Xpoint = xv[:,1]"
   ]
  },
  {
   "cell_type": "markdown",
   "metadata": {},
   "source": [
    "Une fois l'équation résolue, on peut tracer les fonctions suivantes : \n",
    "* loi horaire ;\n",
    "* portrait de phase."
   ]
  },
  {
   "cell_type": "code",
   "execution_count": null,
   "metadata": {},
   "outputs": [],
   "source": [
    "## On trace l'évolution temporelle de la tension de sortie du filtre\n",
    "plt.figure('Signal')\n",
    "plt.plot(t,X)\n",
    "plt.hlines(R2*Usat/(R1+R2),min(t),max(t),color='r')\n",
    "plt.hlines(-R2*Usat/(R1+R2),min(t),max(t),color='r')\n",
    "plt.grid(True)\n",
    "plt.xlabel(r'Temps $(s)$')\n",
    "plt.ylabel(r'Tension $u_s$ $(V)$')\n",
    "plt.show()"
   ]
  },
  {
   "cell_type": "markdown",
   "metadata": {},
   "source": [
    "Les lignes rouges représentent les frontières $\\left|u_s\\right|\\leq \\frac{R_2}{R_1+R_2}U_\\text{sat}$. On peut alors remarquer l'effet stabilisant du fonctionnement en saturation de l'ALI."
   ]
  },
  {
   "cell_type": "code",
   "execution_count": null,
   "metadata": {},
   "outputs": [],
   "source": [
    "## On trace le portrait de phase de la tension de sortie du filtre\n",
    "plt.figure('Portrait de phase')\n",
    "plt.grid(True)\n",
    "plt.axis('equal')\n",
    "plt.plot(X,Xpoint/omega0)\n",
    "plt.vlines(R2*Usat/(R1+R2),min(Xpoint/omega0),max(Xpoint/omega0),color='r')\n",
    "plt.vlines(-R2*Usat/(R1+R2),min(Xpoint/omega0),max(Xpoint/omega0),color='r')\n",
    "plt.xlabel(r'$u_s$ $(V)$')\n",
    "plt.ylabel(r'$\\dot{u_s}$ $(V.s^{-1})$')\n",
    "plt.show()"
   ]
  },
  {
   "cell_type": "markdown",
   "metadata": {},
   "source": [
    "La bascule périodique entre régime linéaire et de saturation du fonctionnement de l'ALI a pour conséquence un enrichissement spectral du signal obtenu, d'autant plus flagrant que la durée passée en mode de saturation est grande.\n",
    "\n",
    "&nbsp;\n",
    "On peut le vérifier en traçant le spectre du signal, et en modifiant les paramètres de fonctionnement de l'oscillateur."
   ]
  },
  {
   "cell_type": "code",
   "execution_count": null,
   "metadata": {},
   "outputs": [],
   "source": [
    "## On utilise le module fft.fft de scipy\n",
    "Y = fft.fft(X,nd)\n",
    "nf=nd/20 # Affichage réduit de la plage de fréquences calculées\n",
    "Y = Y[:int(nf)]\n",
    "frq = np.arange(nd)/(Tmax) # Création de l'axe des abscisses\n",
    "frq = frq[:int(nf)]\n",
    "imax=np.argmax(abs(Y)) # On cherche la valeur maximale de la FFT pour normalisation\n",
    "\n",
    "plt.figure('FFT')\n",
    "plt.plot(frq,abs(Y)/max(abs(Y)))\n",
    "plt.grid(True)\n",
    "plt.xlabel(r'Fréquence $(Hz)$')\n",
    "plt.ylabel(r'Amplitude normalisée')\n",
    "plt.show()\n",
    "\n",
    "print(\"La pulsation dominante du signal de sortie est : \",format(2*np.pi*frq[imax],\"#.3e\"),\"rad.s^{-1}\")\n",
    "print(\"La pusation propre est : \",format(omega0,\"#.3e\"),\"rad.s^{-1}\")"
   ]
  },
  {
   "cell_type": "code",
   "execution_count": null,
   "metadata": {},
   "outputs": [],
   "source": []
  }
 ],
 "metadata": {
  "kernelspec": {
   "display_name": "Python 3",
   "language": "python",
   "name": "python3"
  },
  "language_info": {
   "codemirror_mode": {
    "name": "ipython",
    "version": 3
   },
   "file_extension": ".py",
   "mimetype": "text/x-python",
   "name": "python",
   "nbconvert_exporter": "python",
   "pygments_lexer": "ipython3",
   "version": "3.7.6"
  }
 },
 "nbformat": 4,
 "nbformat_minor": 2
}
