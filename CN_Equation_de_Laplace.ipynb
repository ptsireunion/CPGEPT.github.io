{
 "cells": [
  {
   "cell_type": "markdown",
   "metadata": {
    "toc": true
   },
   "source": [
    "![WeTheGeeksV3.jpg](https://raw.githubusercontent.com/ptsireunion/CPGE-PT-Reunion/main/WeTheGeeksV3.jpg)\n",
    " \n",
    "<div class=\"alert alert-block alert-info\">\n",
    "    <b> PYTHON – Capacité Numérique  \n",
    "</div>\n",
    "\n",
    "# - RESOLUTION DE L’EQUATION DE LAPLACE -\n",
    "> Physique Chimie `CPGE PT` lien vers le blog <a> https://cpge-reunion-ptsi.blogspot.com/p/info-pyhton.html </a>\n",
    "    >> Sujet inspiré par diverses lectures. Merci à leurs contributeurs.trices"
   ]
  },
  {
   "cell_type": "markdown",
   "metadata": {},
   "source": [
    "Dans ce notebook, on cherchera à `discrétiser l’équation de Laplace, la résoudre numériquement et en faire une représentation en régime permanent`. \n",
    "\n",
    "## Etude théorique\n",
    "\n",
    "> **Question 1**\n",
    ">\n",
    "> Démontrer l’équation de Poisson en électrostatique. \n",
    "En déduire l’équation de Laplace en précisant les hypothèses d’applications.\n",
    "\n",
    "> **Question 2** \n",
    "Un exercice classique : La « cage de Faraday » : on considère une surface conductrice équipotentielle $V_0$ entourant un domaine vide $D$:\n",
    "    >> 2.1) Proposer une solution simple pour V(M) à l’intérieur du domaine D.  \n",
    "    >> 2.2) En déduire le champ électrique en tout point de D.  \n",
    "    >> 2.3) Quel est l’intérêt d’un tel dispositif ?\n",
    "\n",
    "Si on impose maintenant des conditions de potentiel quelconques sur les bords de D, les calculs deviennent trop complexes et l’outil numérique s’impose\n",
    "\n",
    "## Etude numérique\n",
    "\n",
    "On appellera $V[i][j]$ la valeur du potentiel dans la matrice $V$ à la ligne $i$ et à la colonne $j$ . On appellera $V'$ la matrice calculée au rang ultérieur à partir de la matrice $V$. \n",
    "On travaillera en 2D dans la base cartésienne et on procédera à une discrétisation en $N = 11$ cellules dans les deux dimensions avec limites suivantes :\n",
    "> Potentiel nul pour toutes les cellules de la première ligne i = 0. Il croît de manière affine, de 0 à 100 le long de la bordure verticale j=0 (1ère colonne) et entre 0 et −100 le long de la frontière j=N-1 (dernière colonne). Il évolue de façon affine entre 100 et -100 sur la dernière ligne (i = N - 1). Il est nul pour toutes les cellules restantes\n",
    "\n",
    "![Barre.jpg](https://raw.githubusercontent.com/ptsireunion/CPGE-PT-Reunion/main/Laplace_conditions_initiales.JPG)\n"
   ]
  },
  {
   "cell_type": "markdown",
   "metadata": {},
   "source": [
    "### Discrétisation de l'équation de Laplace\n",
    "\n",
    "\n",
    ">**Question 3**\n",
    "> On part de $$\\frac{\\partial^2 T}{\\partial x^2}+\\frac{\\partial^2 T}{\\partial y^2}=0$$ et on cherche à démontrer que :\n",
    "> $$ V'[i,j]=\\frac{1}{4} (V[i+1,j]+V[i-1,j]+V[i,j+1]+V[i,j-1]))$$"
   ]
  },
  {
   "cell_type": "markdown",
   "metadata": {},
   "source": [
    ">> 3.1 En utilisant l'approximation de la dérivée, exprimer $\\left(\\frac{\\partial V}{\\partial t}\\right)_{i,j}$ en fonction de `V[i,j]`, `V[i+1,j]` et du pas spatial `dx`\n",
    ">\n",
    ">> 3.2) Soit une fonction $f$. En écrivant la formule de Taylor à l’ordre 2 pour $f(x+dx)$ et $f(x-dx)$, démontrer que : \n",
    "> $$ f''(x)\\simeq\\frac{f(x+dx)+f(x-dx)-2f(x)}{dx^2}$$\n",
    ">\n",
    ">> 3.3)\n",
    "> En déduire l'approximation de $\\left(\\frac{\\partial^2 V}{\\partial x^2}\\right)_{i,j}$ en fonction de `V[i+1,j]`, de `V[i-1,j]` et du pas spatial `dx`.\n",
    ">\n",
    ">> 3.4)\n",
    "> Appliquer la même méthode pour la dérivée seconde suivant l'axe y. En supposant que les pas spatiaux sont égaux `dx=dy`, en déduire que $$\\frac{1}{4} (V[i+1,j]+V[i-1,j]+V[i,j+1]+V[i,j-1]))=V[i,j]$$\n",
    "\n",
    "Partant d’une distribution spatiale quelconque du potentiel, on fait évoluer chaque cellule du tableau par itération grâce à l'équation de récurrence précédente vers une nouvelle distribution du potentiel : une méthode simple consiste à isoler le terme au second membre en le nommant $V′[i][j]$ pour obtenir l'équation qu'on cherchait à démontrer. On doit alors choisir des valeurs d'initialisation du tableau qui vont permettrent de le remplir en entier sans oublier des cellules et sans jamais \"sortir\" du tableau."
   ]
  },
  {
   "cell_type": "markdown",
   "metadata": {},
   "source": [
    "### Initialisation\n",
    "\n",
    "\n",
    ">**Question 4**\n",
    ">\n",
    ">Créer une fonction ```tableau_initial( )``` sans argument qui crée le tableau de dimensions 11*11 de départ de potentiels nuls auxquels vous rajouterez les conditions aux limites sur ses bords"
   ]
  },
  {
   "cell_type": "code",
   "execution_count": 2,
   "metadata": {},
   "outputs": [
    {
     "ename": "IndentationError",
     "evalue": "expected an indented block (840864455.py, line 12)",
     "output_type": "error",
     "traceback": [
      "\u001b[1;36m  File \u001b[1;32m\"C:\\Users\\roque\\AppData\\Local\\Temp\\ipykernel_8928\\840864455.py\"\u001b[1;36m, line \u001b[1;32m12\u001b[0m\n\u001b[1;33m    return tab\u001b[0m\n\u001b[1;37m    ^\u001b[0m\n\u001b[1;31mIndentationError\u001b[0m\u001b[1;31m:\u001b[0m expected an indented block\n"
     ]
    }
   ],
   "source": [
    "N=11\n",
    "eps=0.01\n",
    "def tableau_initial() : # crée le tableau de départ  \n",
    "    #ne pas utiliser tab=N*[N*[0.]] sinon la boucle suivante ne fonctionne plus   \n",
    "    tab = []    \n",
    "    for i in range(N): ### A COMPLETER\n",
    "\n",
    "### A COMPLETER\n",
    "### A COMPLETER\n",
    "### A COMPLETER\n",
    "\n",
    "    return tab"
   ]
  },
  {
   "cell_type": "markdown",
   "metadata": {},
   "source": [
    ">**Question 5**\n",
    ">\n",
    ">Créer une fonction ```nouveau_tableau( )``` qui a pour argument un tableau et permet de passer du tableau de potentiel $V[i][j]$ au suivant $V’[i][j]$. Attention à ne pas toucher les bords. Quelle est la valeur après la 1ère itération de $V’[1][1]$ ? vérifier cette valeur avec l’équation de récurrence."
   ]
  },
  {
   "cell_type": "code",
   "execution_count": null,
   "metadata": {},
   "outputs": [],
   "source": [
    "def nouveau_tableau(tab): # crée le nouveau tableau\n",
    "    newpot=tableau_initial()\n",
    "    for i in range(###): # attention à ne pas toucher les bords !!\n",
    "\n",
    "### A COMPLETER\n",
    "### A COMPLETER\n",
    "### A COMPLETER\n",
    "\n",
    "    return newpot"
   ]
  },
  {
   "cell_type": "markdown",
   "metadata": {},
   "source": [
    ">**Question 6**\n",
    ">\n",
    ">Créer une fonction ```compare( )``` à deux arguments qui retourne ```« ecart »``` le plus grand écart en valeur absolue calculé entre 2 cellules identiquement positionnées dans les tableaux précédents. Utiliser la fonction avec le tableau initial et celui obtenu après la 1ère itération ? Vérifier cette valeur"
   ]
  },
  {
   "cell_type": "code",
   "execution_count": null,
   "metadata": {
    "scrolled": false
   },
   "outputs": [],
   "source": [
    "def compare(tab1,tab2):\n",
    "    ecart=0.\n",
    "    for i in range(###):\n",
    "\n",
    "### A COMPLETER\n",
    "### A COMPLETER\n",
    "### A COMPLETER\n",
    "\n",
    "    return ecart"
   ]
  },
  {
   "cell_type": "markdown",
   "metadata": {},
   "source": [
    "### Itérations\n",
    "\n",
    ">**Question 7**\n",
    ">\n",
    "> Initialiser les variables nécessaires et écrire une boucle permettant de faire évoluer le potentiel tant que l’écart calculé précédemment est supérieur à un certain seuil (appelé par exemple epsilon).\n",
    ">\n",
    ">Pour epsilon = 0,01, proposer le code qui renvoie le tableau final et donne le nombre d’itérations. \n"
   ]
  },
  {
   "cell_type": "code",
   "execution_count": null,
   "metadata": {},
   "outputs": [],
   "source": [
    "Npas=0\n",
    "eps=0.01\n",
    "tab=tableau_initial()\n",
    "while ###\n",
    "\n",
    "    ### A COMPLETER\n",
    "    ### A COMPLETER"
   ]
  },
  {
   "cell_type": "markdown",
   "metadata": {},
   "source": [
    "Voici ce que vous devriez obtenir :\n",
    "\n",
    "![TableauT.jpg](https://raw.githubusercontent.com/ptsireunion/CPGE-PT-Reunion/main/Laplace_valeurs_finales.JPG)"
   ]
  },
  {
   "cell_type": "markdown",
   "metadata": {},
   "source": [
    ">**Question 8**\n",
    ">\n",
    "> Reprendre la procédure avec un nouveau tableau initial et vérifier que la solution correspond à ce qui était prévu."
   ]
  },
  {
   "cell_type": "markdown",
   "metadata": {},
   "source": [
    ">**Question 9**\n",
    ">\tReprendre toute la programmation en utilisant non plus des listes de listes, mais des matrices. Vous importerez la bibliothèque numpy pour cela."
   ]
  }
 ],
 "metadata": {
  "kernelspec": {
   "display_name": "Python 3 (ipykernel)",
   "language": "python",
   "name": "python3"
  },
  "language_info": {
   "codemirror_mode": {
    "name": "ipython",
    "version": 3
   },
   "file_extension": ".py",
   "mimetype": "text/x-python",
   "name": "python",
   "nbconvert_exporter": "python",
   "pygments_lexer": "ipython3",
   "version": "3.9.13"
  },
  "toc": {
   "base_numbering": 1,
   "nav_menu": {},
   "number_sections": false,
   "sideBar": true,
   "skip_h1_title": false,
   "title_cell": "",
   "title_sidebar": "Sommaire",
   "toc_cell": true,
   "toc_position": {
    "height": "calc(100% - 180px)",
    "left": "10px",
    "top": "150px",
    "width": "273.6px"
   },
   "toc_section_display": true,
   "toc_window_display": true
  }
 },
 "nbformat": 4,
 "nbformat_minor": 2
}
